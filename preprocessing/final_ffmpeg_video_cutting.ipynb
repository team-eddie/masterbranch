{
 "cells": [
  {
   "cell_type": "code",
   "execution_count": 1,
   "metadata": {
    "ExecuteTime": {
     "end_time": "2018-12-27T09:46:26.046384Z",
     "start_time": "2018-12-27T09:46:26.042388Z"
    }
   },
   "outputs": [],
   "source": [
    "import subprocess\n",
    "import os"
   ]
  },
  {
   "cell_type": "code",
   "execution_count": 15,
   "metadata": {
    "ExecuteTime": {
     "end_time": "2018-12-27T08:13:38.777368Z",
     "start_time": "2018-12-27T08:13:38.770391Z"
    }
   },
   "outputs": [
    {
     "name": "stdout",
     "output_type": "stream",
     "text": [
      "['a_rmaudio.mp4', 'ffmpeg_video_cutting', 'img', 'rm_1234.mp4', 'rm_2010 Spring Time Lapse Twinkling Stars 星の輝き 2010 春.mp4', '삼성 Shark diving in the desert 가상현실 쯤이야.mp4']\n"
     ]
    }
   ],
   "source": [
    "path_dir = \"C:\\\\Users\\\\Playdata\\\\Desktop\\\\a_video\\\\\"\n",
    "file_list=os.listdir(path_dir)\n",
    "file_list.sort()\n",
    "print(file_list)"
   ]
  },
  {
   "cell_type": "code",
   "execution_count": 16,
   "metadata": {
    "ExecuteTime": {
     "end_time": "2018-12-27T08:13:44.105368Z",
     "start_time": "2018-12-27T08:13:44.097374Z"
    }
   },
   "outputs": [
    {
     "name": "stdout",
     "output_type": "stream",
     "text": [
      "['a_rmaudio', 'ffmpeg_video_cutting', 'img', 'rm_1234', 'rm_2010 Spring Time Lapse Twinkling Stars 星の輝き 2010 春', '삼성 Shark diving in the desert 가상현실 쯤이야']\n"
     ]
    }
   ],
   "source": [
    "title=[]\n",
    "for i in file_list:\n",
    "    i_split=i.split(\".\")\n",
    "    title.append(i_split[0])\n",
    "print(title)"
   ]
  },
  {
   "cell_type": "code",
   "execution_count": 21,
   "metadata": {
    "ExecuteTime": {
     "end_time": "2018-12-27T08:19:50.633367Z",
     "start_time": "2018-12-27T08:19:50.397370Z"
    }
   },
   "outputs": [
    {
     "name": "stdout",
     "output_type": "stream",
     "text": [
      "ffmpeg -i \"C:\\Users\\Playdata\\Desktop\\a_video\\0_a_rmaudio.mp4\" -ss 0 -t 300 -vcodec copy -acodec copy \"C:\\Users\\Playdata\\Desktop\\a_video\\ffmpeg_video_cutting\\cutting_0.mp4\"\n",
      "ffmpeg -i \"C:\\Users\\Playdata\\Desktop\\a_video\\1_ffmpeg_video_cutting.mp4\" -ss 0 -t 300 -vcodec copy -acodec copy \"C:\\Users\\Playdata\\Desktop\\a_video\\ffmpeg_video_cutting\\cutting_1.mp4\"\n",
      "ffmpeg -i \"C:\\Users\\Playdata\\Desktop\\a_video\\2_img.mp4\" -ss 0 -t 300 -vcodec copy -acodec copy \"C:\\Users\\Playdata\\Desktop\\a_video\\ffmpeg_video_cutting\\cutting_2.mp4\"\n",
      "ffmpeg -i \"C:\\Users\\Playdata\\Desktop\\a_video\\3_rm_1234.mp4\" -ss 0 -t 300 -vcodec copy -acodec copy \"C:\\Users\\Playdata\\Desktop\\a_video\\ffmpeg_video_cutting\\cutting_3.mp4\"\n",
      "ffmpeg -i \"C:\\Users\\Playdata\\Desktop\\a_video\\4_rm_2010 Spring Time Lapse Twinkling Stars 星の輝き 2010 春.mp4\" -ss 0 -t 300 -vcodec copy -acodec copy \"C:\\Users\\Playdata\\Desktop\\a_video\\ffmpeg_video_cutting\\cutting_4.mp4\"\n",
      "ffmpeg -i \"C:\\Users\\Playdata\\Desktop\\a_video\\5_삼성 Shark diving in the desert 가상현실 쯤이야.mp4\" -ss 0 -t 300 -vcodec copy -acodec copy \"C:\\Users\\Playdata\\Desktop\\a_video\\ffmpeg_video_cutting\\cutting_5.mp4\"\n"
     ]
    }
   ],
   "source": [
    "for idx, i in enumerate(title):\n",
    "    command = 'ffmpeg -i \"C:\\\\Users\\\\Playdata\\\\Desktop\\\\a_video\\\\{}_{}.mp4\" -ss 0 -t 300 -vcodec copy -acodec copy \"C:\\\\Users\\\\Playdata\\\\Desktop\\\\a_video\\\\ffmpeg_video_cutting\\\\cutting_{}.mp4\"'.format(idx,i,idx,i)\n",
    "    subprocess.call(command, shell=True)\n",
    "    print(command)\n"
   ]
  },
  {
   "cell_type": "code",
   "execution_count": 12,
   "metadata": {
    "ExecuteTime": {
     "end_time": "2018-12-27T09:49:50.510914Z",
     "start_time": "2018-12-27T09:49:50.264918Z"
    }
   },
   "outputs": [
    {
     "name": "stdout",
     "output_type": "stream",
     "text": [
      "ffmpeg -i \"C:\\Users\\Playdata\\Desktop\\a_video\\a_rmaudio.mp4\" -ss 20 -t 40 -vcodec copy -acodec copy \"C:\\Users\\Playdata\\Desktop\\a_video\\ffmpeg_video_cutting\\cutting_1.mp4\"\n"
     ]
    }
   ],
   "source": [
    "# 20초에서 시작하여 40초간격으로 자르기\n",
    "command = 'ffmpeg -i \"C:\\\\Users\\\\Playdata\\\\Desktop\\\\a_video\\\\a_rmaudio.mp4\" -ss 20 -t 40 -vcodec copy -acodec copy \"C:\\\\Users\\\\Playdata\\\\Desktop\\\\a_video\\\\ffmpeg_video_cutting\\\\cutting_1.mp4\"'\n",
    "subprocess.call(command, shell=True)\n",
    "print(command)\n"
   ]
  },
  {
   "cell_type": "code",
   "execution_count": null,
   "metadata": {},
   "outputs": [],
   "source": []
  }
 ],
 "metadata": {
  "kernelspec": {
   "display_name": "Python 3",
   "language": "python",
   "name": "python3"
  },
  "language_info": {
   "codemirror_mode": {
    "name": "ipython",
    "version": 3
   },
   "file_extension": ".py",
   "mimetype": "text/x-python",
   "name": "python",
   "nbconvert_exporter": "python",
   "pygments_lexer": "ipython3",
   "version": "3.6.7"
  }
 },
 "nbformat": 4,
 "nbformat_minor": 2
}
