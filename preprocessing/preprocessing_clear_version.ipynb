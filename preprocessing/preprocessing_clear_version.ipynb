{
 "cells": [
  {
   "cell_type": "markdown",
   "metadata": {},
   "source": [
    "# 영상처리\n",
    "### 1. 영상 30초 분할, 소리제거\n",
    "### 2. 영상 프레임 저장(모델에서 해주는 부분이므로 하지 않아도 됨 테스트용)\n",
    "### 3. 영상의 음악 저장, 음악 분할\n",
    "\n",
    "# 음악처리\n",
    "### 4. 음악 30초 분할"
   ]
  },
  {
   "cell_type": "markdown",
   "metadata": {},
   "source": [
    "   \n",
    "   \n",
    "   "
   ]
  },
  {
   "cell_type": "markdown",
   "metadata": {},
   "source": [
    "# 라이브러리, 경로 지정"
   ]
  },
  {
   "cell_type": "code",
   "execution_count": null,
   "metadata": {
    "ExecuteTime": {
     "end_time": "2019-04-13T09:34:45.965242Z",
     "start_time": "2019-04-13T09:34:45.953276Z"
    }
   },
   "outputs": [],
   "source": [
    "# dependancies\n",
    "# ****************************************************************************\n",
    "#  pip install ffmpeg\n",
    "#  pip install pydub\n",
    "\n",
    "import subprocess\n",
    "import os\n",
    "import re"
   ]
  },
  {
   "cell_type": "code",
   "execution_count": null,
   "metadata": {
    "ExecuteTime": {
     "end_time": "2019-02-05T05:35:34.049284Z",
     "start_time": "2019-02-05T05:35:34.022357Z"
    }
   },
   "outputs": [],
   "source": [
    "# video가 포함된 directory의 경로 설정\n",
    "# ****************************************************************************\n",
    "\n",
    "path_dir = \" \"\n",
    "\n",
    "file_list=os.listdir(path_dir) # 디렉토리에 들어있는 것들 리스트를 받아옴(처리하려는 영상 이외의 것이 있으면 리스트에서 빼주는 전처리 필요)\n",
    "file_list.sort() #이름순으로 정렬"
   ]
  },
  {
   "cell_type": "code",
   "execution_count": null,
   "metadata": {
    "ExecuteTime": {
     "end_time": "2019-02-05T05:35:35.205198Z",
     "start_time": "2019-02-05T05:35:35.199212Z"
    },
    "code_folding": []
   },
   "outputs": [],
   "source": [
    "# 확장자(mp4)를 제외한 비디오 제목만 남기기\n",
    "# ****************************************************************************\n",
    "video_list=[]\n",
    "for i in file_list:\n",
    "    i_split=i.split(\".\")\n",
    "    video_list.append(i_split[0])\n",
    "\n",
    "# print(video_list)\n",
    "print(len(video_list))"
   ]
  },
  {
   "cell_type": "code",
   "execution_count": null,
   "metadata": {
    "ExecuteTime": {
     "end_time": "2019-02-05T05:36:24.419604Z",
     "start_time": "2019-02-05T05:35:39.099782Z"
    }
   },
   "outputs": [],
   "source": [
    "# 영상 길이 구하기(초)  - 비디오의 소리 분할시에 이 길이 활용\n",
    "# ************************************************************************\n",
    "video_time_list = []\n",
    "\n",
    "for video in video_list:\n",
    "    result = subprocess.Popen('ffprobe -i \"{}\\\\{}.mp4\" -show_entries format=duration -v quiet -of csv=\"p=0\"'.format(path_dir, video), stdout=subprocess.PIPE,stderr=subprocess.STDOUT)\n",
    "    output = result.communicate()\n",
    "    # print(output[0])\n",
    "    video_time = re.findall(\"\\d+\",str(output[0]))[0] # 정규식, 정수단위의 초만 남김\n",
    "    # print(video_time)\n",
    "    video_time_list.append(video_time)\n",
    "# print(video_time_list)\n",
    "print(len(video_time_list))"
   ]
  },
  {
   "cell_type": "markdown",
   "metadata": {},
   "source": [
    "# 영상 처리 : 소리제거+30초분할/프레임/소리 따로 저장"
   ]
  },
  {
   "cell_type": "markdown",
   "metadata": {},
   "source": [
    "## 0. 영상 저장 위치 지정"
   ]
  },
  {
   "cell_type": "code",
   "execution_count": null,
   "metadata": {
    "ExecuteTime": {
     "end_time": "2019-02-03T17:47:17.236547Z",
     "start_time": "2019-02-03T17:47:17.232558Z"
    }
   },
   "outputs": [],
   "source": [
    "# 영상처리하고 저장할 위치 지정\n",
    "# ****************************************************************************\n",
    "paht_save_v = \"\""
   ]
  },
  {
   "cell_type": "markdown",
   "metadata": {},
   "source": [
    "## 1. 영상 저장 - 영상 소리제거+30초로 분할"
   ]
  },
  {
   "cell_type": "code",
   "execution_count": null,
   "metadata": {
    "ExecuteTime": {
     "end_time": "2019-02-03T18:48:21.664434Z",
     "start_time": "2019-02-03T17:49:57.899966Z"
    }
   },
   "outputs": [],
   "source": [
    "# 영상 소리제거, 30초 분할하여 저장\n",
    "\n",
    "for idx, j in enumerate(video_time_list): # 영상 길이를 받아옴\n",
    "    order = int(j)//30 # 30초 단위로 잘라 떨어지지 않는 부분은 버림 - 몫\n",
    "    for k in range(order): # 파일명을 위한 k\n",
    "        # print(idx, j, order, k, k*30)\n",
    "        # print(video_list[idx])\n",
    "        command_v = 'ffmpeg -ss \"{}\" -t 30 -i \"{}\\\\{}.mp4\" -an \"{}\\\\{}_{}.mp4\"'.format(k*30, path_dir, video_list[idx], path_save_v, video_list[idx], k+1) # -ss 시작시간 / -t 시간 30초 / -i input 파일 / -an 오디오는 제거 / 마지막에 파일이 저장될 경로 지정해줌 // 영상의 vcodec을 넣으면 30초로 딱 잘리지 않아 태그 삭제함(but 시간이 3배 이상 오래 걸림)\n",
    "        subprocess.call(command_v, shell=True) # shell에서 커맨드 실행\n",
    "        print(\"command is   =======   \", command_v)"
   ]
  },
  {
   "cell_type": "markdown",
   "metadata": {},
   "source": [
    "## 2. 영상 프레임 뽑기 - 필요에 따라 경로 바꿀 것"
   ]
  },
  {
   "cell_type": "code",
   "execution_count": null,
   "metadata": {
    "ExecuteTime": {
     "end_time": "2019-02-04T00:06:44.421904Z",
     "start_time": "2019-02-04T00:06:44.417915Z"
    }
   },
   "outputs": [],
   "source": [
    "# 자르려는 영상이 있는 경로 - 30초 분할된 영상이 있는 경로 지정\n",
    "path_video = ''\n",
    "\n",
    "# 영상의 프레임을 뽑은 후 저장할 경로 지정\n",
    "path_frame = ''"
   ]
  },
  {
   "cell_type": "code",
   "execution_count": null,
   "metadata": {
    "ExecuteTime": {
     "start_time": "2019-02-03T23:49:54.932Z"
    }
   },
   "outputs": [],
   "source": [
    "# 영상 프레임 뽑기\n",
    "file_list=os.listdir(path_video)\n",
    "file_list.sort()\n",
    "\n",
    "# mp4를 제외한 비디오 제목만 남기기 - 영상 원본이 아니고 분할된 영상이므로\n",
    "video_list=[]\n",
    "for i in file_list:\n",
    "    i_split=i.split(\".\")\n",
    "    video_list.append(i_split[0])\n",
    "\n",
    "# print(video_list)\n",
    "print(len(video_list))\n",
    "\n",
    "for video in video_list:\n",
    "    command = 'ffmpeg -ss 00:00 -t 30 -i \"{}\\\\{}.mp4\" -r 6 -s 640*360 -qscale:v 2 -f image2 \"{}\\\\{}_%3d.jpg\"'.format(path_video, video, path_frame, video) # -r은 1초에 6장 -s 사이즈 -qscale:v 화질관련 -f 포맷:이미지\n",
    "    subprocess.call(command, shell=True)\n",
    "    print(\"command is   =======   \", command)"
   ]
  },
  {
   "cell_type": "markdown",
   "metadata": {},
   "source": [
    "## 3. 영상의 소리 추출, 분할 30초씩 - 원본 영상 이용(처리한 영상과 프레임에는 소리X)"
   ]
  },
  {
   "cell_type": "code",
   "execution_count": null,
   "metadata": {
    "ExecuteTime": {
     "end_time": "2019-02-05T05:37:09.179924Z",
     "start_time": "2019-02-05T05:37:09.170950Z"
    }
   },
   "outputs": [],
   "source": [
    "# 원본 영상의 경로를 다시 확인(앞 코드와 중복됨)\n",
    "# **************************************************************************\n",
    "# # from pydub import AudioSegment\n",
    "# import os\n",
    "# import subprocess\n",
    "\n",
    "path_dir = \"\" #영상 경로 지정\n",
    "\n",
    "# file_list=os.listdir(path_dir)\n",
    "# file_list.sort()\n",
    "# len(file_list)\n",
    "\n",
    "# video_list=[]\n",
    "# for i in file_list:\n",
    "#     i_split=i.split(\".\")\n",
    "#     video_list.append(i_split[0])\n",
    "    \n",
    "# video_time_list = []\n",
    "\n",
    "#영상 길이 구하기(초)\n",
    "# for video in video_list:\n",
    "#     result = subprocess.Popen('ffprobe -i \"{}\\\\{}.mp4\" -show_entries format=duration -v quiet -of csv=\"p=0\"'.format(path_dir, video), stdout=subprocess.PIPE,stderr=subprocess.STDOUT)\n",
    "#     output = result.communicate()\n",
    "#     # print(output[0])\n",
    "#     video_time = re.findall(\"\\d+\",str(output[0]))[0] #정규식, 정수단위의 초만 남김\n",
    "#     # print(video_time)\n",
    "#     video_time_list.append(video_time)\n",
    "\n",
    "print(\"video_list includes the following videos : \\n\", video_list)\n",
    "print(\"the length of video_list : \\n\", len(video_list))\n",
    "print(\"video_time_list includes the following time of videos : \\n\", video_time_list)\n",
    "print(\"the length of video_time_list : \\n\", len(video_time_list))"
   ]
  },
  {
   "cell_type": "markdown",
   "metadata": {},
   "source": [
    "# 음악 처리\n",
    "\n",
    "## 4. 음악 30초 분할"
   ]
  },
  {
   "cell_type": "code",
   "execution_count": null,
   "metadata": {
    "ExecuteTime": {
     "end_time": "2019-02-05T03:36:32.011033Z",
     "start_time": "2019-02-05T03:36:32.006046Z"
    }
   },
   "outputs": [],
   "source": [
    "import subprocess\n",
    "import os\n",
    "import re\n",
    "from mutagen.mp3 import MP3\n",
    "from mutagen.asf import ASF"
   ]
  },
  {
   "cell_type": "code",
   "execution_count": null,
   "metadata": {
    "ExecuteTime": {
     "end_time": "2019-02-05T04:14:09.305808Z",
     "start_time": "2019-02-05T04:14:09.272898Z"
    }
   },
   "outputs": [],
   "source": [
    "# 음악 파일 위치 # 앞의 과정과 별개라 path_dir라는 변수를 새로 써줌 영상을 다시 처리한다면 주의할 것\n",
    "musicpath = ''\n",
    "path_dir = musicpath\n",
    "# path_dir = musicpath_classicall\n",
    "# path_dir = musicpath_dance\n",
    "# path_dir = musicpath_rock\n",
    "\n",
    "music_file_list=os.listdir(path_dir) # 디렉토리에 들어있는 것들 리스트를 받아옴(처리하려는 음악 이외의 것이 있으면 리스트에서 빼주는 전처리 필요)\n",
    "music_file_list.sort() #이름순으로 정렬\n",
    "len(music_file_list)\n",
    "music_file_list[0]"
   ]
  },
  {
   "cell_type": "code",
   "execution_count": null,
   "metadata": {
    "ExecuteTime": {
     "end_time": "2019-02-05T04:14:10.331068Z",
     "start_time": "2019-02-05T04:14:10.324085Z"
    }
   },
   "outputs": [],
   "source": [
    "# 제목만 남기기\n",
    "music_list=[]\n",
    "for i in music_file_list:\n",
    "    i_split=i.split(\".\")\n",
    "    music_list.append(i_split[0])\n",
    "\n",
    "print(music_list[0])\n",
    "print(len(music_list))\n",
    "\n",
    "# 음악 파일 길이\n",
    "# 길이를 가지고 분할 처리, 파일명 지정"
   ]
  },
  {
   "cell_type": "code",
   "execution_count": null,
   "metadata": {
    "ExecuteTime": {
     "end_time": "2019-02-05T09:54:35.438000Z",
     "start_time": "2019-02-05T09:54:35.183665Z"
    }
   },
   "outputs": [],
   "source": [
    "# 음악 길이 받기\n",
    "# dependancies\n",
    "# ****************************************************************************\n",
    "# pip install mutagen\n",
    "\n",
    "import mutagen\n",
    "from mutagen.mp3 import MP3\n",
    "from mutagen.asf import ASF\n",
    "\n",
    "path_dir_music = '' #필요에 따라 경로 지정\n",
    "\n",
    "music_length = []\n",
    "\n",
    "for i in music_file_list:\n",
    "    i_split=i.split(\".\")\n",
    "    music_list.append(i_split[0])\n",
    "    if i_split[1]=='mp3':\n",
    "        audio = MP3(path_dir_music+i)\n",
    "    else:\n",
    "        audio = mutagen.File(path_dir_music+i)\n",
    "    length = audio.info.length\n",
    "    music_length.append(length)\n",
    "\n",
    "    print(len(music_length))\n",
    "print(len(music_file_list))"
   ]
  },
  {
   "cell_type": "markdown",
   "metadata": {},
   "source": [
    "## 분할 후 저장"
   ]
  },
  {
   "cell_type": "code",
   "execution_count": null,
   "metadata": {
    "ExecuteTime": {
     "start_time": "2019-02-05T04:17:29.440Z"
    }
   },
   "outputs": [],
   "source": [
    "# 저장 위치\n",
    "path_save_m = '' # 필요에 따라 경로 수정\n",
    "\n",
    "# 음악 자르기\n",
    "from pydub import AudioSegment\n",
    "for idx, j in enumerate(music_length): # 음악의 길이는 영상 길이와 같음\n",
    "    file = path_dir+\"\\\\\"+music_file_list[idx]\n",
    "    savefile = path_save_m+\"\\\\\"+music_list[idx]\n",
    "    music = AudioSegment.from_file(file)\n",
    "    order = int(j)//30\n",
    "    sec = 1000\n",
    "    thirtysec = 30 * sec\n",
    "    for k in range(order):\n",
    "        start = k*30\n",
    "        # print(idx, j, order, k, k*30)\n",
    "        # print(video_list[idx])\n",
    "        music30 = music[start:start+thirtysec] # pydub은 기준이 millisecond라서(1초는 10000 밀리세컨드)\n",
    "        music30.export(path_save_m+\"\\\\{}_{}\".format(music_list[idx],k+1), format='wav', parameters=[\"-q:a\", \"10\", \"-ac\", \"1\"]) # 내보내기\n",
    "    print(\"success\")"
   ]
  }
 ],
 "metadata": {
  "kernelspec": {
   "display_name": "Python 3",
   "language": "python",
   "name": "python3"
  },
  "language_info": {
   "codemirror_mode": {
    "name": "ipython",
    "version": 3
   },
   "file_extension": ".py",
   "mimetype": "text/x-python",
   "name": "python",
   "nbconvert_exporter": "python",
   "pygments_lexer": "ipython3",
   "version": "3.6.8"
  }
 },
 "nbformat": 4,
 "nbformat_minor": 2
}
